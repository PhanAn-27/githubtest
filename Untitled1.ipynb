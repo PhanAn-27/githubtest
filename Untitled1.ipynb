{
 "cells": [
  {
   "cell_type": "code",
   "execution_count": 1,
   "id": "6f523f92",
   "metadata": {},
   "outputs": [
    {
     "name": "stdout",
     "output_type": "stream",
     "text": [
      "hello world\n"
     ]
    }
   ],
   "source": [
    "print('hello world')"
   ]
  },
  {
   "cell_type": "code",
   "execution_count": 2,
   "id": "3755f9ba",
   "metadata": {},
   "outputs": [
    {
     "name": "stdout",
     "output_type": "stream",
     "text": [
      "hello world\n",
      "Phan Lac An\n"
     ]
    }
   ],
   "source": [
    "print('hello world\\nPhan Lac An')"
   ]
  },
  {
   "cell_type": "code",
   "execution_count": 3,
   "id": "0d977b51",
   "metadata": {},
   "outputs": [],
   "source": [
    "import numpy as np\n",
    "import math"
   ]
  },
  {
   "cell_type": "code",
   "execution_count": 4,
   "id": "dbefe39e",
   "metadata": {},
   "outputs": [
    {
     "name": "stdout",
     "output_type": "stream",
     "text": [
      "Coefficient of a: 1\n",
      "Coefficient of b: 1\n",
      "Coefficient of c: 1\n",
      "The 2 solutions are imaginary:\n",
      " X = -1.0 + i*0.8660254037844386 or -1.0 - i*0.8660254037844386\n"
     ]
    }
   ],
   "source": [
    "a = input(\"Coefficient of a: \")\n",
    "a = float(a)\n",
    "b = input(\"Coefficient of b: \")\n",
    "b = float(b)\n",
    "c = input(\"Coefficient of c: \")\n",
    "c = float(c)\n",
    "\n",
    "delta = b ** 2 - (4 * a * c)\n",
    "if delta >= 0:\n",
    "    x_1 = (-b + math.sqrt(b ** 2 - (4 * a * c))) / 2 * a\n",
    "    x_2 = (-b - math.sqrt(b ** 2 - (4 * a * c))) / 2 * a\n",
    "    print()\n",
    "    print(f\" X = {x_1} or {x_2}\")\n",
    "    print()\n",
    "else:\n",
    "    print(\"The 2 solutions are imaginary:\")\n",
    "    real = -b\n",
    "    imag = abs(math.sqrt(-delta) / (2 * a))\n",
    "    print(f\" X = {real} + i*{imag} or {real} - i*{imag}\")"
   ]
  },
  {
   "cell_type": "code",
   "execution_count": 102,
   "id": "9328741c",
   "metadata": {},
   "outputs": [
    {
     "name": "stdout",
     "output_type": "stream",
     "text": [
      "31\n",
      "                               *\n",
      "                              ***\n",
      "                             *****\n",
      "                            *******\n",
      "                           *********\n",
      "                          ***********\n",
      "                         *************\n",
      "                        ***************\n",
      "                       *****************\n",
      "                      *******************\n",
      "                     *********************\n",
      "                    ***********************\n",
      "                   *************************\n",
      "                  ***************************\n",
      "                 *****************************\n",
      "                *******************************\n",
      "               *********************************\n",
      "              ***********************************\n",
      "             *************************************\n",
      "            ***************************************\n",
      "           *****************************************\n",
      "          *******************************************\n",
      "         *********************************************\n",
      "        ***********************************************\n",
      "       *************************************************\n",
      "      ***************************************************\n",
      "     *****************************************************\n",
      "    *******************************************************\n",
      "   *********************************************************\n",
      "  ***********************************************************\n",
      " *************************************************************\n",
      "                               |\n"
     ]
    }
   ],
   "source": [
    "height = int(input())\n",
    "for i in range(height):\n",
    "    print((' ' * (height - i)) + ('*' * ((2 * i) + 1)))\n",
    "print((' ' * height) + '|')\n"
   ]
  },
  {
   "cell_type": "code",
   "execution_count": 17,
   "id": "de924466",
   "metadata": {},
   "outputs": [
    {
     "name": "stdout",
     "output_type": "stream",
     "text": [
      "hello\n"
     ]
    }
   ],
   "source": [
    "#Đọc file\n",
    "with open('read.txt') as rf:\n",
    "    content = rf.read()\n",
    "print(content)"
   ]
  },
  {
   "cell_type": "code",
   "execution_count": 21,
   "id": "b06cef75",
   "metadata": {},
   "outputs": [
    {
     "name": "stdout",
     "output_type": "stream",
     "text": [
      "Nhap du lieu dang text: abcd\n",
      "abcd\n"
     ]
    }
   ],
   "source": [
    "#Ghi file\n",
    "texts = []\n",
    "texts.append(input('Nhap du lieu dang text: '))\n",
    "with open('data.txt', 'w', encoding=\"utf-8\") as wf:\n",
    "    wf.writelines(texts)\n",
    "with open('data.txt') as rf:\n",
    "    content = rf.read()\n",
    "print(content)"
   ]
  },
  {
   "cell_type": "code",
   "execution_count": 85,
   "id": "6dbcab7f",
   "metadata": {},
   "outputs": [
    {
     "name": "stdout",
     "output_type": "stream",
     "text": [
      "Them du lieu vao file: abc\n",
      "apple\n",
      "orange\n",
      "banana\n",
      "abc\n"
     ]
    }
   ],
   "source": [
    "#Thêm dữ liệu vào file\n",
    "texts = [\n",
    "    \"apple\",\n",
    "    \"orange\",\n",
    "    \"banana\"\n",
    "]\n",
    "with open('data.txt', 'w', encoding=\"utf-8\") as wf:\n",
    "    for text in texts:\n",
    "        wf.write(text + '\\n')\n",
    "with open('data.txt', 'a', encoding=\"utf-8\") as wf:\n",
    "    wf.write(input('Them du lieu vao file: '))\n",
    "with open('data.txt', encoding=\"utf-8\") as rf:\n",
    "    content = rf.read()\n",
    "print(content)"
   ]
  },
  {
   "cell_type": "code",
   "execution_count": 86,
   "id": "77c83473",
   "metadata": {},
   "outputs": [
    {
     "name": "stdout",
     "output_type": "stream",
     "text": [
      "nhap du lieu can xoa: orange\n",
      "apple\n",
      "banana\n",
      "abc\n"
     ]
    }
   ],
   "source": [
    "#Xóa dữ liệu\n",
    "delete = input('nhap du lieu can xoa: ')\n",
    "with open(\"data.txt\", \"w\") as f:\n",
    "      \n",
    "    for line in data :\n",
    "          \n",
    "        # condition for data to be deleted\n",
    "        if line.strip(\"\\n\") != delete : \n",
    "            f.write(line)\n",
    "with open('data.txt', encoding=\"utf-8\") as rf:\n",
    "    content = rf.read()\n",
    "print(content)"
   ]
  },
  {
   "cell_type": "code",
   "execution_count": 88,
   "id": "747ef0a0",
   "metadata": {},
   "outputs": [
    {
     "name": "stdout",
     "output_type": "stream",
     "text": [
      "a b c d e f g h i j k l m n o p q r s t u v w x y z "
     ]
    }
   ],
   "source": [
    "#For để in bảng chữ cái\n",
    "for i in range(97,123):\n",
    "    print(chr(i), end=\" \")\n"
   ]
  },
  {
   "cell_type": "code",
   "execution_count": 90,
   "id": "ab957707",
   "metadata": {},
   "outputs": [
    {
     "name": "stdout",
     "output_type": "stream",
     "text": [
      "3\n",
      "3  là số nguyên tố\n"
     ]
    }
   ],
   "source": [
    "#Ktra số nguyên tố\n",
    "n = int(input())\n",
    "flag = True\n",
    " \n",
    "# Kiểm tra SNT\n",
    "if (n < 2):\n",
    "    flag = False\n",
    "elif (n == 2):\n",
    "    flag = True\n",
    "elif (n % 2 == 0):\n",
    "    flag = False\n",
    "else:\n",
    "    for i in range(3, n, 2):\n",
    "        if (n % i == 0):\n",
    "            flag = False\n",
    "if flag == True:\n",
    "    print(n, \" là số nguyên tố\")\n",
    "else:\n",
    "    print(n, \" không phải là số nguyên tố\")"
   ]
  },
  {
   "cell_type": "code",
   "execution_count": null,
   "id": "03b7fe1a",
   "metadata": {},
   "outputs": [],
   "source": []
  }
 ],
 "metadata": {
  "kernelspec": {
   "display_name": "Python 3 (ipykernel)",
   "language": "python",
   "name": "python3"
  },
  "language_info": {
   "codemirror_mode": {
    "name": "ipython",
    "version": 3
   },
   "file_extension": ".py",
   "mimetype": "text/x-python",
   "name": "python",
   "nbconvert_exporter": "python",
   "pygments_lexer": "ipython3",
   "version": "3.8.12"
  }
 },
 "nbformat": 4,
 "nbformat_minor": 5
}
